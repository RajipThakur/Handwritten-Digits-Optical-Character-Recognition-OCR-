{
 "cells": [
  {
   "cell_type": "markdown",
   "id": "6976b7d9",
   "metadata": {},
   "source": [
    "# OCR which stands for Optical Character Recognition is a computer vision technique used to identify the different types of handwritten digits that are used in common mathematics. To perform OCR in OpenCV we will use the KNN algorithm which detects the nearest k neighbors of a particular data point and then classifies that data point based on the class type detected for n neighbors."
   ]
  },
  {
   "cell_type": "code",
   "execution_count": 1,
   "id": "7bf232f6",
   "metadata": {},
   "outputs": [],
   "source": [
    "import numpy as np \n",
    "import cv2 \n",
    "\n",
    " \n"
   ]
  },
  {
   "cell_type": "markdown",
   "id": "aeeb7b6d",
   "metadata": {},
   "source": [
    "# This data contains 5000 handwritten digits where there are 500 digits for every type of digit. Each digit is of 20×20 pixel dimensions. We will split the data such that 250 digits are for training and 250 digits are for testing for every class."
   ]
  },
  {
   "cell_type": "code",
   "execution_count": 5,
   "id": "644956e9",
   "metadata": {},
   "outputs": [],
   "source": [
    "# Read the image \n",
    "image = cv2.imread('digits.png') \n",
    "# gray scale conversion \n",
    "gray_img = cv2.cvtColor(image,cv2.COLOR_BGR2GRAY) \n",
    "\n",
    "\n",
    "# We will divide the image \n",
    "# into 5000 small dimensions \n",
    "# of size 20x20 \n",
    "divisions = list(np.hsplit(i,100) for i in np.vsplit(gray_img,50)) \n",
    "\n",
    "# Convert into Numpy array \n",
    "# of size (50,100,20,20) \n",
    "NP_array = np.array(divisions) \n"
   ]
  },
  {
   "cell_type": "code",
   "execution_count": null,
   "id": "53ccb632",
   "metadata": {},
   "outputs": [],
   "source": [
    "# Preparing train_data \n",
    "# and test_data. \n",
    "# Size will be (2500,20x20) \n",
    "train_data = NP_array[:,:50].reshape(-1,400).astype(np.float32) \n",
    "\n",
    "# Size will be (2500,20x20) \n",
    "test_data = NP_array[:,50:100].reshape(-1,400).astype(np.float32) \n",
    "\n",
    "# Create 10 different labels \n",
    "# for each type of digit \n",
    "k = np.arange(10) \n",
    "train_labels = np.repeat(k,250)[:,np.newaxis] \n",
    "test_labels = np.repeat(k,250)[:,np.newaxis] \n",
    "\n",
    "# Initiate kNN classifier \n",
    "knn = cv2.ml.KNearest_create()   "
   ]
  },
  {
   "cell_type": "code",
   "execution_count": null,
   "id": "7a4de2ae",
   "metadata": {},
   "outputs": [],
   "source": [
    "# perform training of data \n",
    "knn.train(train_data, \n",
    "\t\tcv2.ml.ROW_SAMPLE, \n",
    "\t\ttrain_labels) \n",
    "\n",
    "# obtain the output from the \n",
    "# classifier by specifying the \n",
    "# number of neighbors. \n",
    "ret, output ,neighbours, \n",
    "distance = knn.findNearest(test_data, k = 3) \n"
   ]
  },
  {
   "cell_type": "code",
   "execution_count": null,
   "id": "955787c2",
   "metadata": {},
   "outputs": [],
   "source": [
    "# Check the performance and \n",
    "# accuracy of the classifier. \n",
    "# Compare the output with test_labels \n",
    "# to find out how many are wrong. \n",
    "matched = output==test_labels \n",
    "correct_OP = np.count_nonzero(matched) \n",
    "\n",
    "#Calculate the accuracy. \n",
    "accuracy = (correct_OP*100.0)/(output.size) \n",
    "\n",
    "# Display accuracy. \n",
    "print(accuracy)"
   ]
  }
 ],
 "metadata": {
  "kernelspec": {
   "display_name": "Python 3 (ipykernel)",
   "language": "python",
   "name": "python3"
  },
  "language_info": {
   "codemirror_mode": {
    "name": "ipython",
    "version": 3
   },
   "file_extension": ".py",
   "mimetype": "text/x-python",
   "name": "python",
   "nbconvert_exporter": "python",
   "pygments_lexer": "ipython3",
   "version": "3.10.2"
  }
 },
 "nbformat": 4,
 "nbformat_minor": 5
}
